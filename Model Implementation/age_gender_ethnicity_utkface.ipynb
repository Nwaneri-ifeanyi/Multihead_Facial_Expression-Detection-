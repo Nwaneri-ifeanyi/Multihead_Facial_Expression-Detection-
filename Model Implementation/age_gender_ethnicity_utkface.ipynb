{
 "cells": [
  {
   "cell_type": "markdown",
   "id": "5532806f-c9e1-4c5b-b181-1c829a95cf91",
   "metadata": {},
   "source": [
    "# Importing Required Libraries "
   ]
  },
  {
   "cell_type": "code",
   "execution_count": 11,
   "id": "9f65d66b-1e89-4ee3-a8e5-9074d7076ed9",
   "metadata": {},
   "outputs": [],
   "source": [
    "import os\n",
    "import torch\n",
    "import timm\n",
    "import torch.nn as nn\n",
    "import torch.optim as optim\n",
    "from torchvision import transforms\n",
    "from torch.utils.data import Dataset, DataLoader, random_split\n",
    "from PIL import Image\n",
    "from sklearn.metrics import classification_report\n",
    "from tqdm import tqdm\n",
    "import os\n",
    "from sklearn.model_selection import train_test_split"
   ]
  },
  {
   "cell_type": "markdown",
   "id": "29adc483-f88b-4218-ab12-7aefed01e258",
   "metadata": {},
   "source": [
    "# Loading pretrained model "
   ]
  },
  {
   "cell_type": "code",
   "execution_count": 12,
   "id": "3dc9720f-f6be-4210-9417-c97aceae1a71",
   "metadata": {},
   "outputs": [],
   "source": [
    "# --- Step 1: Load Pretrained RexNet Model ---\n",
    "class MultiTaskRexNet(nn.Module):\n",
    "    def __init__(self, backbone):\n",
    "        super(MultiTaskRexNet, self).__init__()\n",
    "        self.backbone = backbone\n",
    "        self.global_pool = nn.AdaptiveAvgPool2d((1, 1))\n",
    "        self.age_head = nn.Linear(1920, 101)       # Predict age (0–100)\n",
    "        self.gender_head = nn.Linear(1920, 2)     # Predict gender (Male, Female)\n",
    "        self.ethnicity_head = nn.Linear(1920, 5)  # Predict ethnicity (5 classes)\n",
    "\n",
    "    def forward(self, x):\n",
    "        features = self.backbone.forward_features(x)\n",
    "        features = self.global_pool(features).view(features.size(0), -1)\n",
    "        age_pred = self.age_head(features)\n",
    "        gender_pred = self.gender_head(features)\n",
    "        ethnicity_pred = self.ethnicity_head(features)\n",
    "        return age_pred, gender_pred, ethnicity_pred\n",
    "\n",
    "# Load pretrained RexNet backbone\n",
    "def load_pretrained_model(file_path):\n",
    "    model = timm.create_model('rexnet_150', pretrained=False)\n",
    "    state_dict = torch.load(file_path, map_location=\"cpu\")\n",
    "    model.load_state_dict(state_dict, strict=False)\n",
    "    return MultiTaskRexNet(model)"
   ]
  },
  {
   "cell_type": "code",
   "execution_count": 13,
   "id": "ee36a897-f55b-4c4c-ae2b-ae01ed66b7ee",
   "metadata": {},
   "outputs": [
    {
     "name": "stderr",
     "output_type": "stream",
     "text": [
      "/var/folders/r0/mdrnq25s5nnb7l0k1pd_89pm0000gn/T/ipykernel_42112/1252606177.py:22: FutureWarning: You are using `torch.load` with `weights_only=False` (the current default value), which uses the default pickle module implicitly. It is possible to construct malicious pickle data which will execute arbitrary code during unpickling (See https://github.com/pytorch/pytorch/blob/main/SECURITY.md#untrusted-models for more details). In a future release, the default value for `weights_only` will be flipped to `True`. This limits the functions that could be executed during unpickling. Arbitrary objects will no longer be allowed to be loaded via this mode unless they are explicitly allowlisted by the user via `torch.serialization.add_safe_globals`. We recommend you start setting `weights_only=True` for any use case where you don't have full control of the loaded file. Please open an issue on GitHub for any issues related to this experimental feature.\n",
      "  state_dict = torch.load(file_path, map_location=\"cpu\")\n"
     ]
    }
   ],
   "source": [
    "# File path to pretrained weights\n",
    "file_path = \"/Users/ifeanyinwaneri/Documents/Documents - Ifeanyi’s MacBook Pro/Computer-Vision-Model/face-emotion-recognition/models/pretrained_faces/state_vggface2_rexnet_150.pt\"\n",
    "multi_task_model = load_pretrained_model(file_path)"
   ]
  },
  {
   "cell_type": "markdown",
   "id": "fb17a89d-5da3-4359-875a-fde818f552fc",
   "metadata": {},
   "source": [
    "# Dataset Preparation"
   ]
  },
  {
   "cell_type": "code",
   "execution_count": 14,
   "id": "228f7793-0c57-4a93-ab78-2c277c8cb207",
   "metadata": {},
   "outputs": [],
   "source": [
    "# --- Step 2: Dataset Preparation ---\n",
    "class UTKFaceDataset(Dataset):\n",
    "    def __init__(self, image_paths, labels, transform=None):\n",
    "        self.image_paths = image_paths\n",
    "        self.labels = labels\n",
    "        self.transform = transform\n",
    "\n",
    "    def __len__(self):\n",
    "        return len(self.labels)\n",
    "\n",
    "    def __getitem__(self, idx):\n",
    "        img_path = self.image_paths[idx]\n",
    "        label = self.labels[idx]\n",
    "        image = Image.open(img_path).convert(\"RGB\")\n",
    "        if self.transform:\n",
    "            image = self.transform(image)\n",
    "        return image, torch.tensor(label)\n",
    "\n",
    "# Parse filenames from UTKFace dataset\n",
    "def parse_utkface_dataset(dataset_path):\n",
    "    images, labels = [], []\n",
    "    for filename in os.listdir(dataset_path):\n",
    "        if filename.endswith(\".jpg\") or filename.endswith(\".jpg.chip.jpg\"):\n",
    "            try:\n",
    "                age, gender, ethnicity = map(int, filename.split(\"_\")[:3])\n",
    "                images.append(os.path.join(dataset_path, filename))\n",
    "                labels.append((age, gender, ethnicity))\n",
    "            except ValueError:\n",
    "                continue\n",
    "    return images, labels"
   ]
  },
  {
   "cell_type": "code",
   "execution_count": 15,
   "id": "16d48e17-3a19-416b-b85c-c7772616cad0",
   "metadata": {},
   "outputs": [],
   "source": [
    "# Preprocessing transformations\n",
    "transform = transforms.Compose([\n",
    "    transforms.Resize((224, 224)),\n",
    "    transforms.ToTensor(),\n",
    "    transforms.Normalize(mean=[0.485, 0.456, 0.406], std=[0.229, 0.224, 0.225])\n",
    "])\n",
    "\n",
    "# Dataset path\n",
    "utkface_path = \"/Users/ifeanyinwaneri/Documents/Documents - Ifeanyi’s MacBook Pro/Computer-Vision-Model/CSE-Project Dataset/UTKFace/Aligned&Cropped Faces\"\n",
    "utk_images, utk_labels = parse_utkface_dataset(utkface_path)\n",
    "\n",
    "# Split into train, validation, and test sets\n",
    "train_images, test_images, train_labels, test_labels = train_test_split(\n",
    "    utk_images, utk_labels, test_size=0.2, random_state=42\n",
    ")\n",
    "val_images, test_images, val_labels, test_labels = train_test_split(\n",
    "    test_images, test_labels, test_size=0.5, random_state=42\n",
    ")"
   ]
  },
  {
   "cell_type": "code",
   "execution_count": 16,
   "id": "9bdebb98-6244-4ec8-a129-74bd6a304fc5",
   "metadata": {},
   "outputs": [],
   "source": [
    "# Create DataLoaders\n",
    "train_dataset = UTKFaceDataset(train_images, train_labels, transform)\n",
    "val_dataset = UTKFaceDataset(val_images, val_labels, transform)\n",
    "test_dataset = UTKFaceDataset(test_images, test_labels, transform)\n",
    "\n",
    "BATCH_SIZE = 64\n",
    "train_loader = DataLoader(train_dataset, batch_size=BATCH_SIZE, shuffle=True)\n",
    "val_loader = DataLoader(val_dataset, batch_size=BATCH_SIZE, shuffle=False)\n",
    "test_loader = DataLoader(test_dataset, batch_size=BATCH_SIZE, shuffle=False)"
   ]
  },
  {
   "cell_type": "code",
   "execution_count": 22,
   "id": "167bebc1-6419-4b93-a7ee-36d8c7edeeff",
   "metadata": {},
   "outputs": [],
   "source": [
    "# Define dataset path\n",
    "dataset_path = \"/Users/ifeanyinwaneri/Documents/Documents - Ifeanyi’s MacBook Pro/Computer-Vision-Model/CSE-Project Dataset/UTKFace/Aligned&Cropped Faces/\"\n",
    "\n",
    "# Parse filenames\n",
    "def parse_filename(filename):\n",
    "    parts = filename.split(\"_\")\n",
    "    age = int(parts[0])\n",
    "    gender = int(parts[1])\n",
    "    ethnicity = int(parts[2])\n",
    "    return age, gender, ethnicity"
   ]
  },
  {
   "cell_type": "code",
   "execution_count": 23,
   "id": "27ff3fca-7e82-4ab6-9cdb-25275690689e",
   "metadata": {},
   "outputs": [
    {
     "name": "stdout",
     "output_type": "stream",
     "text": [
      "Skipping file due to parsing error: 39_1_20170116174525125.jpg.chip.jpg, Error: invalid literal for int() with base 10: '20170116174525125.jpg.chip.jpg'\n",
      "Skipping file due to parsing error: 61_1_20170109150557335.jpg.chip.jpg, Error: invalid literal for int() with base 10: '20170109150557335.jpg.chip.jpg'\n",
      "Skipping file due to parsing error: 61_1_20170109142408075.jpg.chip.jpg, Error: invalid literal for int() with base 10: '20170109142408075.jpg.chip.jpg'\n",
      "Training samples: 18964\n",
      "Validation samples: 2370\n",
      "Testing samples: 2371\n"
     ]
    }
   ],
   "source": [
    "# Prepare dataset\n",
    "images = []\n",
    "labels = []\n",
    "\n",
    "for filename in os.listdir(dataset_path):\n",
    "    if filename.endswith(\".jpg\") or filename.endswith(\".jpg.chip.jpg\"):\n",
    "        try:\n",
    "            age, gender, ethnicity = parse_filename(filename)\n",
    "            img_path = os.path.join(dataset_path, filename)\n",
    "            images.append(img_path)\n",
    "            labels.append((age, gender, ethnicity))\n",
    "        except ValueError as e:\n",
    "            print(f\"Skipping file due to parsing error: {filename}, Error: {e}\")\n",
    "\n",
    "\n",
    "# Split into train, val, test\n",
    "train_images, test_images, train_labels, test_labels = train_test_split(\n",
    "    images, labels, test_size=0.2, random_state=42)\n",
    "val_images, test_images, val_labels, test_labels = train_test_split(\n",
    "    test_images, test_labels, test_size=0.5, random_state=42)\n",
    "\n",
    "print(f\"Training samples: {len(train_images)}\")\n",
    "print(f\"Validation samples: {len(val_images)}\")\n",
    "print(f\"Testing samples: {len(test_images)}\")"
   ]
  },
  {
   "cell_type": "code",
   "execution_count": 24,
   "id": "78300060-f179-4bad-b807-6ae92c8a5e34",
   "metadata": {},
   "outputs": [],
   "source": [
    "import matplotlib.pyplot as plt\n",
    "from collections import Counter\n",
    "import numpy as np\n",
    "\n",
    "# Extract labels\n",
    "ages = [label[0] for label in train_labels]\n",
    "genders = [label[1] for label in train_labels]\n",
    "ethnicities = [label[2] for label in train_labels]\n",
    "\n",
    "import matplotlib.pyplot as plt\n",
    "from collections import Counter\n",
    "import numpy as np\n",
    "\n",
    "# Extract labels\n",
    "ages = [label[0] for label in train_labels]\n",
    "genders = [label[1] for label in train_labels]\n",
    "ethnicities = [label[2] for label in train_labels]"
   ]
  },
  {
   "cell_type": "code",
   "execution_count": 25,
   "id": "16871d2e-035b-4bc6-9cbb-ac88e2f8cd0e",
   "metadata": {},
   "outputs": [
    {
     "data": {
      "image/png": "[encoded data removed]",
      "text/plain": [
       "<Figure size 800x500 with 1 Axes>"
      ]
     },
     "metadata": {},
     "output_type": "display_data"
    }
   ],
   "source": [
    "# Function to plot distributions\n",
    "def plot_distribution(data, title, xlabel, ylabel, bins=None):\n",
    "    plt.figure(figsize=(8, 5))\n",
    "    plt.hist(data, bins=bins, edgecolor=\"k\", alpha=0.7)\n",
    "    plt.title(title)\n",
    "    plt.xlabel(xlabel)\n",
    "    plt.ylabel(ylabel)\n",
    "    plt.grid(axis=\"y\", linestyle=\"--\", alpha=0.7)\n",
    "    plt.show()\n",
    "\n",
    "# Age distribution\n",
    "plot_distribution(ages, \"Age Distribution\", \"Age\", \"Frequency\", bins=30)"
   ]
  },
  {
   "cell_type": "code",
   "execution_count": 26,
   "id": "44b7588b-8dc9-4db3-ac0f-11e27e8c61f2",
   "metadata": {},
   "outputs": [
    {
     "data": {
      "image/png": "[encoded data removed]",
      "text/plain": [
       "<Figure size 600x400 with 1 Axes>"
      ]
     },
     "metadata": {},
     "output_type": "display_data"
    }
   ],
   "source": [
    "# Gender distribution\n",
    "gender_counts = Counter(genders)\n",
    "plt.figure(figsize=(6, 4))\n",
    "plt.bar([\"Male (0)\", \"Female (1)\"], [gender_counts[0], gender_counts[1]], color=[\"blue\", \"pink\"])\n",
    "plt.title(\"Gender Distribution\")\n",
    "plt.ylabel(\"Frequency\")\n",
    "plt.grid(axis=\"y\", linestyle=\"--\", alpha=0.7)\n",
    "plt.show()"
   ]
  },
  {
   "cell_type": "code",
   "execution_count": 27,
   "id": "1d127eab-32f2-42e9-b23a-8e0d6fe02e6c",
   "metadata": {},
   "outputs": [
    {
     "data": {
      "image/png": "[encoded data removed]",
      "text/plain": [
       "<Figure size 800x500 with 1 Axes>"
      ]
     },
     "metadata": {},
     "output_type": "display_data"
    }
   ],
   "source": [
    "# Ethnicity distribution\n",
    "ethnicity_counts = Counter(ethnicities)\n",
    "plt.figure(figsize=(8, 5))\n",
    "plt.bar(\n",
    "    [\"White (0)\", \"Black (1)\", \"Asian (2)\", \"Indian (3)\", \"Others (4)\"],\n",
    "    [ethnicity_counts[i] for i in range(5)],\n",
    "    color=[\"gray\", \"brown\", \"yellow\", \"red\", \"green\"]\n",
    ")\n",
    "plt.title(\"Ethnicity Distribution\")\n",
    "plt.ylabel(\"Frequency\")\n",
    "plt.grid(axis=\"y\", linestyle=\"--\", alpha=0.7)\n",
    "plt.show()"
   ]
  },
  {
   "cell_type": "markdown",
   "id": "e071b3c2-d2a0-4c8a-b07a-efa85eeb4d36",
   "metadata": {},
   "source": [
    "# Training and Validation "
   ]
  },
  {
   "cell_type": "code",
   "execution_count": 17,
   "id": "29ac3df2-f1aa-4d26-895b-a2cc9d7cdeba",
   "metadata": {},
   "outputs": [],
   "source": [
    "# --- Step 3: Training and Validation ---\n",
    "# Loss functions\n",
    "criterion_age = nn.CrossEntropyLoss()\n",
    "criterion_gender = nn.CrossEntropyLoss()\n",
    "criterion_ethnicity = nn.CrossEntropyLoss()\n",
    "\n",
    "# Optimizer\n",
    "def create_optimizer(model):\n",
    "    return optim.Adam([\n",
    "        {\"params\": model.age_head.parameters()},\n",
    "        {\"params\": model.gender_head.parameters()},\n",
    "        {\"params\": model.ethnicity_head.parameters()}\n",
    "    ], lr=1e-4)"
   ]
  },
  {
   "cell_type": "code",
   "execution_count": 18,
   "id": "bb36268d-220e-48db-b9c6-48d68429daa7",
   "metadata": {},
   "outputs": [],
   "source": [
    "# Training loop\n",
    "def train_model(model, train_loader, val_loader, num_epochs, device):\n",
    "    model.to(device)\n",
    "    optimizer = create_optimizer(model)\n",
    "    for epoch in range(num_epochs):\n",
    "        model.train()\n",
    "        total_loss = 0\n",
    "        for images, labels in tqdm(train_loader, desc=f\"Epoch {epoch + 1}/{num_epochs}\"):\n",
    "            images = images.to(device)\n",
    "            age_labels, gender_labels, ethnicity_labels = labels[:, 0], labels[:, 1], labels[:, 2]\n",
    "            age_labels, gender_labels, ethnicity_labels = age_labels.to(device), gender_labels.to(device), ethnicity_labels.to(device)\n",
    "\n",
    "            # Forward pass\n",
    "            optimizer.zero_grad()\n",
    "            age_preds, gender_preds, ethnicity_preds = model(images)\n",
    "            loss = (criterion_age(age_preds, age_labels) +\n",
    "                    criterion_gender(gender_preds, gender_labels) +\n",
    "                    criterion_ethnicity(ethnicity_preds, ethnicity_labels))\n",
    "            \n",
    "            # Backward pass\n",
    "            loss.backward()\n",
    "            optimizer.step()\n",
    "            total_loss += loss.item()\n",
    "\n",
    "        print(f\"Epoch {epoch + 1}/{num_epochs}, Loss: {total_loss / len(train_loader):.4f}\")\n",
    "        validate_model(model, val_loader, device)"
   ]
  },
  {
   "cell_type": "code",
   "execution_count": 19,
   "id": "5a792eee-e2e6-4d11-ada2-b561d5d1036f",
   "metadata": {},
   "outputs": [],
   "source": [
    "# Validation loop\n",
    "def validate_model(model, val_loader, device):\n",
    "    model.eval()\n",
    "    val_loss = 0\n",
    "    with torch.no_grad():\n",
    "        for images, labels in val_loader:\n",
    "            images = images.to(device)\n",
    "            age_labels, gender_labels, ethnicity_labels = labels[:, 0], labels[:, 1], labels[:, 2]\n",
    "            age_labels, gender_labels, ethnicity_labels = age_labels.to(device), gender_labels.to(device), ethnicity_labels.to(device)\n",
    "\n",
    "            age_preds, gender_preds, ethnicity_preds = model(images)\n",
    "            val_loss += (criterion_age(age_preds, age_labels).item() +\n",
    "                         criterion_gender(gender_preds, gender_labels).item() +\n",
    "                         criterion_ethnicity(ethnicity_preds, ethnicity_labels).item())\n",
    "\n",
    "    print(f\"Validation Loss: {val_loss / len(val_loader):.4f}\")\n",
    "\n"
   ]
  },
  {
   "cell_type": "markdown",
   "id": "cd265abd-089c-4f0d-a4f9-6d3e57024be9",
   "metadata": {},
   "source": [
    "#  Start Training "
   ]
  },
  {
   "cell_type": "code",
   "execution_count": 20,
   "id": "8145449b-bdd3-4a6c-9a6e-5bdeb4ac9c35",
   "metadata": {},
   "outputs": [
    {
     "name": "stderr",
     "output_type": "stream",
     "text": [
      "Epoch 1/10: 100%|█████████████████████████████| 297/297 [02:31<00:00,  1.96it/s]\n"
     ]
    },
    {
     "name": "stdout",
     "output_type": "stream",
     "text": [
      "Epoch 1/10, Loss: 5.2935\n",
      "Validation Loss: 4.5488\n"
     ]
    },
    {
     "name": "stderr",
     "output_type": "stream",
     "text": [
      "Epoch 2/10: 100%|█████████████████████████████| 297/297 [02:50<00:00,  1.75it/s]\n"
     ]
    },
    {
     "name": "stdout",
     "output_type": "stream",
     "text": [
      "Epoch 2/10, Loss: 4.2500\n",
      "Validation Loss: 4.1061\n"
     ]
    },
    {
     "name": "stderr",
     "output_type": "stream",
     "text": [
      "Epoch 3/10: 100%|█████████████████████████████| 297/297 [02:48<00:00,  1.76it/s]\n"
     ]
    },
    {
     "name": "stdout",
     "output_type": "stream",
     "text": [
      "Epoch 3/10, Loss: 3.9155\n",
      "Validation Loss: 3.9098\n"
     ]
    },
    {
     "name": "stderr",
     "output_type": "stream",
     "text": [
      "Epoch 4/10: 100%|█████████████████████████████| 297/297 [02:29<00:00,  1.99it/s]\n"
     ]
    },
    {
     "name": "stdout",
     "output_type": "stream",
     "text": [
      "Epoch 4/10, Loss: 3.7336\n",
      "Validation Loss: 3.8004\n"
     ]
    },
    {
     "name": "stderr",
     "output_type": "stream",
     "text": [
      "Epoch 5/10: 100%|█████████████████████████████| 297/297 [02:24<00:00,  2.06it/s]\n"
     ]
    },
    {
     "name": "stdout",
     "output_type": "stream",
     "text": [
      "Epoch 5/10, Loss: 3.6092\n",
      "Validation Loss: 3.7318\n"
     ]
    },
    {
     "name": "stderr",
     "output_type": "stream",
     "text": [
      "Epoch 6/10: 100%|█████████████████████████████| 297/297 [02:19<00:00,  2.14it/s]\n"
     ]
    },
    {
     "name": "stdout",
     "output_type": "stream",
     "text": [
      "Epoch 6/10, Loss: 3.5169\n",
      "Validation Loss: 3.6834\n"
     ]
    },
    {
     "name": "stderr",
     "output_type": "stream",
     "text": [
      "Epoch 7/10: 100%|█████████████████████████████| 297/297 [02:13<00:00,  2.22it/s]\n"
     ]
    },
    {
     "name": "stdout",
     "output_type": "stream",
     "text": [
      "Epoch 7/10, Loss: 3.4430\n",
      "Validation Loss: 3.6476\n"
     ]
    },
    {
     "name": "stderr",
     "output_type": "stream",
     "text": [
      "Epoch 8/10: 100%|█████████████████████████████| 297/297 [02:07<00:00,  2.32it/s]\n"
     ]
    },
    {
     "name": "stdout",
     "output_type": "stream",
     "text": [
      "Epoch 8/10, Loss: 3.3830\n",
      "Validation Loss: 3.6248\n"
     ]
    },
    {
     "name": "stderr",
     "output_type": "stream",
     "text": [
      "Epoch 9/10: 100%|█████████████████████████████| 297/297 [02:07<00:00,  2.33it/s]\n"
     ]
    },
    {
     "name": "stdout",
     "output_type": "stream",
     "text": [
      "Epoch 9/10, Loss: 3.3270\n",
      "Validation Loss: 3.6037\n"
     ]
    },
    {
     "name": "stderr",
     "output_type": "stream",
     "text": [
      "Epoch 10/10: 100%|████████████████████████████| 297/297 [02:10<00:00,  2.27it/s]\n"
     ]
    },
    {
     "name": "stdout",
     "output_type": "stream",
     "text": [
      "Epoch 10/10, Loss: 3.2792\n",
      "Validation Loss: 3.5872\n"
     ]
    }
   ],
   "source": [
    "device = \"mps\" if torch.backends.mps.is_available() else \"cpu\"\n",
    "train_model(multi_task_model, train_loader, val_loader, num_epochs=10, device=device)"
   ]
  },
  {
   "cell_type": "code",
   "execution_count": 21,
   "id": "472ebf1c-8fa0-4bc8-9a58-ebdb748cdca8",
   "metadata": {},
   "outputs": [
    {
     "name": "stderr",
     "output_type": "stream",
     "text": [
      "Evaluating: 100%|███████████████████████████████| 38/38 [00:08<00:00,  4.44it/s]"
     ]
    },
    {
     "name": "stdout",
     "output_type": "stream",
     "text": [
      "Test Loss: 3.5251\n",
      "\n",
      "Age Classification Report:\n",
      "              precision    recall  f1-score   support\n",
      "\n",
      "           1       0.71      0.96      0.81       123\n",
      "           2       0.35      0.33      0.34        40\n",
      "           3       0.14      0.12      0.13        24\n",
      "           4       0.23      0.18      0.20        28\n",
      "           5       0.20      0.08      0.12        24\n",
      "           6       0.25      0.17      0.20        12\n",
      "           7       0.00      0.00      0.00        20\n",
      "           8       0.21      0.44      0.28        25\n",
      "           9       0.19      0.23      0.20        22\n",
      "          10       0.10      0.07      0.08        15\n",
      "          11       0.00      0.00      0.00         7\n",
      "          12       0.00      0.00      0.00        11\n",
      "          13       0.00      0.00      0.00        10\n",
      "          14       0.12      0.07      0.09        15\n",
      "          15       0.00      0.00      0.00        16\n",
      "          16       0.18      0.32      0.23        25\n",
      "          17       0.00      0.00      0.00        21\n",
      "          18       0.18      0.27      0.21        22\n",
      "          19       0.00      0.00      0.00         5\n",
      "          20       0.00      0.00      0.00        26\n",
      "          21       0.00      0.00      0.00        34\n",
      "          22       0.17      0.02      0.04        46\n",
      "          23       0.14      0.02      0.03        52\n",
      "          24       0.10      0.15      0.12        72\n",
      "          25       0.15      0.02      0.04        85\n",
      "          26       0.21      0.80      0.34       217\n",
      "          27       0.25      0.02      0.03        56\n",
      "          28       0.10      0.05      0.07        92\n",
      "          29       0.00      0.00      0.00        50\n",
      "          30       0.22      0.07      0.10        73\n",
      "          31       0.00      0.00      0.00        38\n",
      "          32       0.08      0.04      0.06        70\n",
      "          33       0.00      0.00      0.00         8\n",
      "          34       0.00      0.00      0.00        34\n",
      "          35       0.10      0.19      0.13        90\n",
      "          36       0.12      0.10      0.11        48\n",
      "          37       0.00      0.00      0.00        31\n",
      "          38       0.00      0.00      0.00        34\n",
      "          39       0.25      0.05      0.08        21\n",
      "          40       0.11      0.21      0.15        52\n",
      "          41       0.00      0.00      0.00         9\n",
      "          42       0.25      0.03      0.06        32\n",
      "          43       0.00      0.00      0.00        13\n",
      "          44       0.00      0.00      0.00        14\n",
      "          45       0.06      0.07      0.07        41\n",
      "          46       0.00      0.00      0.00        13\n",
      "          47       0.50      0.06      0.11        17\n",
      "          48       0.00      0.00      0.00        14\n",
      "          49       0.00      0.00      0.00        19\n",
      "          50       0.16      0.19      0.17        36\n",
      "          51       0.00      0.00      0.00        18\n",
      "          52       0.20      0.04      0.07        24\n",
      "          53       0.17      0.06      0.09        34\n",
      "          54       0.08      0.16      0.11        32\n",
      "          55       0.30      0.11      0.16        27\n",
      "          56       0.00      0.00      0.00        21\n",
      "          57       0.00      0.00      0.00         8\n",
      "          58       0.06      0.22      0.09        18\n",
      "          59       0.00      0.00      0.00        10\n",
      "          60       0.06      0.12      0.08        25\n",
      "          61       0.00      0.00      0.00        12\n",
      "          62       0.00      0.00      0.00        16\n",
      "          63       0.00      0.00      0.00         6\n",
      "          64       0.00      0.00      0.00         7\n",
      "          65       0.17      0.18      0.18        28\n",
      "          66       0.57      0.44      0.50         9\n",
      "          67       0.00      0.00      0.00         9\n",
      "          68       0.00      0.00      0.00         5\n",
      "          69       0.00      0.00      0.00         9\n",
      "          70       0.00      0.00      0.00        19\n",
      "          71       0.00      0.00      0.00         5\n",
      "          72       0.25      0.07      0.11        14\n",
      "          73       0.00      0.00      0.00         6\n",
      "          74       0.00      0.00      0.00         3\n",
      "          75       0.15      0.33      0.21        12\n",
      "          76       0.00      0.00      0.00         5\n",
      "          77       0.00      0.00      0.00         2\n",
      "          78       0.00      0.00      0.00         7\n",
      "          79       0.00      0.00      0.00         2\n",
      "          80       0.33      0.19      0.24        16\n",
      "          81       0.00      0.00      0.00         4\n",
      "          82       0.00      0.00      0.00         5\n",
      "          83       0.00      0.00      0.00         4\n",
      "          84       0.00      0.00      0.00         2\n",
      "          85       0.11      0.50      0.19        16\n",
      "          86       0.00      0.00      0.00         1\n",
      "          87       0.00      0.00      0.00         4\n",
      "          88       0.00      0.00      0.00         3\n",
      "          89       0.00      0.00      0.00         4\n",
      "          90       0.14      0.33      0.20         6\n",
      "          91       0.00      0.00      0.00         1\n",
      "          95       0.00      0.00      0.00         1\n",
      "          96       0.00      0.00      0.00         2\n",
      "         100       0.00      0.00      0.00         4\n",
      "         105       0.00      0.00      0.00         2\n",
      "         110       0.00      0.00      0.00         1\n",
      "\n",
      "    accuracy                           0.20      2371\n",
      "   macro avg       0.09      0.08      0.07      2371\n",
      "weighted avg       0.15      0.20      0.14      2371\n",
      "\n",
      "\n",
      "Gender Classification Report:\n",
      "              precision    recall  f1-score   support\n",
      "\n",
      "           0       0.96      0.94      0.95      1250\n",
      "           1       0.93      0.96      0.95      1121\n",
      "\n",
      "    accuracy                           0.95      2371\n",
      "   macro avg       0.95      0.95      0.95      2371\n",
      "weighted avg       0.95      0.95      0.95      2371\n",
      "\n",
      "\n",
      "Ethnicity Classification Report:\n",
      "              precision    recall  f1-score   support\n",
      "\n",
      "           0       0.90      0.94      0.92      1036\n",
      "           1       0.88      0.92      0.90       424\n",
      "           2       0.96      0.94      0.95       347\n",
      "           3       0.84      0.88      0.86       390\n",
      "           4       0.50      0.27      0.35       174\n",
      "\n",
      "    accuracy                           0.88      2371\n",
      "   macro avg       0.81      0.79      0.79      2371\n",
      "weighted avg       0.86      0.88      0.87      2371\n",
      "\n"
     ]
    },
    {
     "name": "stderr",
     "output_type": "stream",
     "text": [
      "\n"
     ]
    }
   ],
   "source": [
    "from sklearn.metrics import classification_report\n",
    "\n",
    "# Evaluation function\n",
    "def evaluate_model(model, test_loader, device):\n",
    "    model.eval()  # Set the model to evaluation mode\n",
    "    all_age_preds, all_gender_preds, all_ethnicity_preds = [], [], []\n",
    "    all_age_labels, all_gender_labels, all_ethnicity_labels = [], [], []\n",
    "    total_loss = 0.0\n",
    "\n",
    "    with torch.no_grad():\n",
    "        for images, labels in tqdm(test_loader, desc=\"Evaluating\"):\n",
    "            images = images.to(device)\n",
    "            age_labels = labels[:, 0].to(device)  # Age labels\n",
    "            gender_labels = labels[:, 1].to(device)  # Gender labels\n",
    "            ethnicity_labels = labels[:, 2].to(device)  # Ethnicity labels\n",
    "\n",
    "            # Forward pass\n",
    "            age_preds, gender_preds, ethnicity_preds = model(images)\n",
    "\n",
    "            # Compute loss (optional, for tracking)\n",
    "            loss = (\n",
    "                criterion_age(age_preds, age_labels) +\n",
    "                criterion_gender(gender_preds, gender_labels) +\n",
    "                criterion_ethnicity(ethnicity_preds, ethnicity_labels)\n",
    "            )\n",
    "            total_loss += loss.item()\n",
    "\n",
    "            # Store predictions and true labels\n",
    "            all_age_preds.extend(age_preds.argmax(dim=1).cpu().numpy())\n",
    "            all_gender_preds.extend(gender_preds.argmax(dim=1).cpu().numpy())\n",
    "            all_ethnicity_preds.extend(ethnicity_preds.argmax(dim=1).cpu().numpy())\n",
    "\n",
    "            all_age_labels.extend(age_labels.cpu().numpy())\n",
    "            all_gender_labels.extend(gender_labels.cpu().numpy())\n",
    "            all_ethnicity_labels.extend(ethnicity_labels.cpu().numpy())\n",
    "\n",
    "    avg_test_loss = total_loss / len(test_loader)\n",
    "    print(f\"Test Loss: {avg_test_loss:.4f}\\n\")\n",
    "\n",
    "    # Generate classification reports\n",
    "    print(\"Age Classification Report:\")\n",
    "    print(classification_report(all_age_labels, all_age_preds, zero_division=0))\n",
    "\n",
    "    print(\"\\nGender Classification Report:\")\n",
    "    print(classification_report(all_gender_labels, all_gender_preds, zero_division=0))\n",
    "\n",
    "    print(\"\\nEthnicity Classification Report:\")\n",
    "    print(classification_report(all_ethnicity_labels, all_ethnicity_preds, zero_division=0))\n",
    "\n",
    "# Evaluate the model on the test set\n",
    "evaluate_model(multi_task_model, test_loader, device=device)\n"
   ]
  },
  {
   "cell_type": "code",
   "execution_count": 28,
   "id": "a4434cf2-7e4a-4b32-bdc3-3bd2b5f4fb56",
   "metadata": {},
   "outputs": [
    {
     "name": "stdout",
     "output_type": "stream",
     "text": [
      "Model saved to saved_models/multi_task_rexnet_age_gender_ethnicity.pth\n"
     ]
    }
   ],
   "source": [
    "# Directory to save the model\n",
    "save_dir = \"saved_models\"\n",
    "os.makedirs(save_dir, exist_ok=True)\n",
    "\n",
    "# Save the model's state_dict\n",
    "model_save_path = os.path.join(save_dir, \"multi_task_rexnet_age_gender_ethnicity.pth\")\n",
    "torch.save(multi_task_model.state_dict(), model_save_path)\n",
    "\n",
    "print(f\"Model saved to {model_save_path}\")\n"
   ]
  },
  {
   "cell_type": "code",
   "execution_count": 29,
   "id": "90547005-c07b-4b2d-9e7e-da0f29a182bb",
   "metadata": {},
   "outputs": [
    {
     "data": {
      "text/plain": [
       "'/Users/ifeanyinwaneri/Documents/Documents - Ifeanyi’s MacBook Pro/Computer-Vision-Model/Multihead_Facial_Expression-Detection-/Model Implementation'"
      ]
     },
     "execution_count": 29,
     "metadata": {},
     "output_type": "execute_result"
    }
   ],
   "source": [
    "pwd"
   ]
  },
  {
   "cell_type": "code",
   "execution_count": null,
   "id": "d553d11e-9735-4b61-bb04-0856fb7437ae",
   "metadata": {},
   "outputs": [],
   "source": []
  },
  {
   "cell_type": "code",
   "execution_count": null,
   "id": "aeb78725-0fe9-48eb-a6a8-0cd84bfcdb42",
   "metadata": {},
   "outputs": [],
   "source": []
  },
  {
   "cell_type": "code",
   "execution_count": null,
   "id": "9fa24ab2-55e7-4b8b-bdea-d58e0227e5e5",
   "metadata": {},
   "outputs": [],
   "source": []
  }
 ],
 "metadata": {
  "kernelspec": {
   "display_name": "Python 3 (ipykernel)",
   "language": "python",
   "name": "python3"
  },
  "language_info": {
   "codemirror_mode": {
    "name": "ipython",
    "version": 3
   },
   "file_extension": ".py",
   "mimetype": "text/x-python",
   "name": "python",
   "nbconvert_exporter": "python",
   "pygments_lexer": "ipython3",
   "version": "3.10.15"
  }
 },
 "nbformat": 4,
 "nbformat_minor": 5
}
